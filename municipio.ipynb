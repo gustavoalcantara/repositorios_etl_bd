{
  "nbformat": 4,
  "nbformat_minor": 0,
  "metadata": {
    "colab": {
      "provenance": [],
      "authorship_tag": "ABX9TyOcOFFiMn5Ll30JTN1IdQre",
      "include_colab_link": true
    },
    "kernelspec": {
      "name": "python3",
      "display_name": "Python 3"
    },
    "language_info": {
      "name": "python"
    }
  },
  "cells": [
    {
      "cell_type": "markdown",
      "metadata": {
        "id": "view-in-github",
        "colab_type": "text"
      },
      "source": [
        "<a href=\"https://colab.research.google.com/github/gustavoalcantara/repositorios_etl_bd/blob/main/municipio.ipynb\" target=\"_parent\"><img src=\"https://colab.research.google.com/assets/colab-badge.svg\" alt=\"Open In Colab\"/></a>"
      ]
    },
    {
      "cell_type": "code",
      "execution_count": null,
      "metadata": {
        "id": "3iADwVoVyoYf"
      },
      "outputs": [],
      "source": [
        "import pandas as pd\n",
        "import numpy as np\n",
        "import os"
      ]
    },
    {
      "cell_type": "code",
      "source": [
        "# criando uma lista\n",
        "y = pd.read_csv('desmatamento_2021.txt', sep='\\t')\n",
        "x = pd.read_csv('desmatamento_all.txt', sep='\\t')"
      ],
      "metadata": {
        "id": "LACO8WNPy0vZ"
      },
      "execution_count": null,
      "outputs": []
    },
    {
      "cell_type": "code",
      "source": [
        "#saude['code_state'] = saude['code_state'].astype(np.int64)\n",
        "y['ano'] = y['ano'].astype(np.int64)\n",
        "y['id_municipio'] = y['id_municipio'].astype(np.int64)\n",
        "x['ano'] = x['ano'].astype(np.int64)\n",
        "x['id_municipio'] = x['id_municipio'].astype(np.int64)\n"
      ],
      "metadata": {
        "id": "LHqVASYBKGWS"
      },
      "execution_count": null,
      "outputs": []
    },
    {
      "cell_type": "code",
      "source": [
        "x=x.append(y)"
      ],
      "metadata": {
        "id": "PfFFEet5Er4S"
      },
      "execution_count": null,
      "outputs": []
    },
    {
      "cell_type": "code",
      "source": [
        "x=x.sort_values(['id_municipio', 'ano'])"
      ],
      "metadata": {
        "id": "K8O1ZB7wJJYB"
      },
      "execution_count": null,
      "outputs": []
    },
    {
      "cell_type": "code",
      "source": [
        "#for ano in [*range(2005, 2020)]:\n",
        "  for mes in [*range(1, 13)]:\n",
        "    particao = output + f'table_id/ano={ano}/mes={mes}'\n",
        "    if not os.path.exists(particao):\n",
        "      os.makedirs(particao)"
      ],
      "metadata": {
        "id": "Z_j2JtJmEQPv"
      },
      "execution_count": null,
      "outputs": []
    },
    {
      "cell_type": "code",
      "source": [
        "for ano in [*range(2000, 2022)]:\n",
        "  particao = f'desmatamento_municipio/ano={ano}'\n",
        "  if not os.path.exists(particao):\n",
        "    os.makedirs(particao)"
      ],
      "metadata": {
        "id": "8r0u4GznET3-"
      },
      "execution_count": null,
      "outputs": []
    },
    {
      "cell_type": "code",
      "source": [
        "#for ano in [*range(2005, 2020)]:\n",
        "  for mes in [*range(1, 13)]:\n",
        "    df_particao = df[df['ano'] == ano].copy() # O .copy não é necessário é apenas uma boa prática\n",
        "    df_particao = df_particao[df_particao['mes'] == mes]\n",
        "    df_particao.drop(['ano', 'mes'], axis=1, inplace=True) # É preciso excluir as colunas utilizadas para partição \n",
        "    particao = output + f'table_id/ano={ano}/mes={mes}/tabela.csv'\n",
        "    df_particao.to_csv(particao, index=False, encoding='utf-8', na_rep='')\n"
      ],
      "metadata": {
        "id": "cyqP2q56GBeE"
      },
      "execution_count": null,
      "outputs": []
    },
    {
      "cell_type": "code",
      "source": [
        "for ano in [*range(2000, 2022)]:\n",
        "  df_particao = x[x['ano']==ano].copy()\n",
        "  df_particao.drop(['ano'], axis=1, inplace=True)\n",
        "  particao = f'desmatamento_municipio/ano={ano}/desmatamento_municipio.csv'\n",
        "  df_particao.to_csv(particao, index=False, encoding = 'utf-8', na_rep='')"
      ],
      "metadata": {
        "id": "lz5EPRrgGDPi"
      },
      "execution_count": null,
      "outputs": []
    }
  ]
}