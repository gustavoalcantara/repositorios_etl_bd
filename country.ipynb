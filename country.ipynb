{
  "nbformat": 4,
  "nbformat_minor": 0,
  "metadata": {
    "colab": {
      "provenance": [],
      "authorship_tag": "ABX9TyNgADwil+LT0pUvde5g5R/I",
      "include_colab_link": true
    },
    "kernelspec": {
      "name": "python3",
      "display_name": "Python 3"
    },
    "language_info": {
      "name": "python"
    }
  },
  "cells": [
    {
      "cell_type": "markdown",
      "metadata": {
        "id": "view-in-github",
        "colab_type": "text"
      },
      "source": [
        "<a href=\"https://colab.research.google.com/github/gustavoalcantara/repositorios_etl_bd/blob/main/country.ipynb\" target=\"_parent\"><img src=\"https://colab.research.google.com/assets/colab-badge.svg\" alt=\"Open In Colab\"/></a>"
      ]
    },
    {
      "cell_type": "code",
      "execution_count": 18,
      "metadata": {
        "id": "LZx5GsKEvbYG"
      },
      "outputs": [],
      "source": [
        "import pandas as pd\n",
        "import numpy as np"
      ]
    },
    {
      "cell_type": "code",
      "source": [
        "x = pd.read_csv('country.txt', sep='\\t', dtype=str)"
      ],
      "metadata": {
        "id": "RkYVNkqXvncw"
      },
      "execution_count": 19,
      "outputs": []
    },
    {
      "cell_type": "code",
      "source": [
        "# Organização dos types para futuro sort\n",
        "x['year'] = x['year'].astype(int)\n",
        "x['rank'] = x['rank'].fillna(0).astype(int)\n",
        "x['rank'] = x['rank'].replace(0, \"\")\n",
        "x['number_sources'] = x['number_sources'].fillna(0).astype(int)\n",
        "x['number_sources'] = x['number_sources'].replace(0, \"\")"
      ],
      "metadata": {
        "id": "05sSRPUQUuYE"
      },
      "execution_count": 20,
      "outputs": []
    },
    {
      "cell_type": "code",
      "source": [
        "x = x.rename({'IMD World Competitiveness Yearbook': 'world_competitiveness_yearbook'},\n",
        "             axis = 'columns')"
      ],
      "metadata": {
        "id": "_TbwHCFhz-RM"
      },
      "execution_count": 21,
      "outputs": []
    },
    {
      "cell_type": "code",
      "source": [
        "y=x.query('year==2012')"
      ],
      "metadata": {
        "id": "VNg2CSx22END"
      },
      "execution_count": 22,
      "outputs": []
    },
    {
      "cell_type": "code",
      "source": [
        "c = x.query('year==2021')[['country_id_iso_3', 'country']]"
      ],
      "metadata": {
        "id": "130kAjrhQEbw"
      },
      "execution_count": 23,
      "outputs": []
    },
    {
      "cell_type": "code",
      "source": [
        "x = pd.merge(x, c, how = 'left', on='country')"
      ],
      "metadata": {
        "id": "oZp-y29nQk00"
      },
      "execution_count": 24,
      "outputs": []
    },
    {
      "cell_type": "code",
      "source": [
        "x = x.rename({'country_id_iso_3_y': 'country_id_iso_3'},\n",
        "             axis = 'columns')"
      ],
      "metadata": {
        "id": "z7gS5fdZRB4o"
      },
      "execution_count": 25,
      "outputs": []
    },
    {
      "cell_type": "code",
      "source": [
        "x = x[['year',\n",
        "       'country_id_iso_3',\n",
        "       'country',\n",
        "       'corruption_index_score',\n",
        "       'rank',\n",
        "       'standard_error',\n",
        "       'number_sources',\n",
        "       'lower_ci',\n",
        "       'upper_ci',\n",
        "       'african_development_bank',\n",
        "       'bertelsmann_foundation_sustainable_index',\n",
        "       'bertelsmann_foundation_transformation_index',\n",
        "       'economist_intelligence_ratings',\n",
        "       'freedom_house_nations_transit',\n",
        "       'global_insight_country_risk_ratings',\n",
        "       'world_competitiveness_yearbook',\n",
        "       'asia_risk_guide_perc',\n",
        "       'international_contry_risk_guide',\n",
        "       'varieties_democracy_project',\n",
        "       'world_bank_country_policy_institutional_assessment',\n",
        "       'world_economic_forum',\n",
        "       'world_justice_project_rule_law_index']] "
      ],
      "metadata": {
        "id": "1HT4rIpvW8Xz"
      },
      "execution_count": 26,
      "outputs": []
    },
    {
      "cell_type": "code",
      "source": [
        "x.to_csv('country.csv', sep=',', index=False, header=True)"
      ],
      "metadata": {
        "id": "7-eyHwjYYsv_"
      },
      "execution_count": 28,
      "outputs": []
    }
  ]
}